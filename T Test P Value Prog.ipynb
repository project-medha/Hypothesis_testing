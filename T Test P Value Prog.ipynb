{
 "cells": [
  {
   "cell_type": "markdown",
   "metadata": {},
   "source": [
    "# T-Tests and P-Values"
   ]
  },
  {
   "cell_type": "markdown",
   "metadata": {},
   "source": [
    "Fabricating data that randomly assigns order amounts from customers in sets A and B\n",
    "Treatment Group - People seeing change \n",
    "Control Group - People seeing old version"
   ]
  },
  {
   "cell_type": "code",
   "execution_count": 1,
   "metadata": {
    "scrolled": true
   },
   "outputs": [
    {
     "data": {
      "text/plain": [
       "Ttest_indResult(statistic=-13.97333405501964, pvalue=3.6585908342938816e-44)"
      ]
     },
     "execution_count": 1,
     "metadata": {},
     "output_type": "execute_result"
    }
   ],
   "source": [
    "import numpy as np\n",
    "from scipy import stats\n",
    "#importing stats module from scipy package for ttest and pvalue metrics\n",
    "A = np.random.normal(25.0, 5.0, 10000)\n",
    "#Creating Test subject/Treatment group of 10000 subs with normal random distribution, mean purchase= 25, std = 5\n",
    "B = np.random.normal(26.0, 5.0, 10000)\n",
    "#Creating Control subject group of 10000 subs with normal random distribution, mean purchase = 26, std = 5\n",
    "# Above data shows negative result for change \n",
    "stats.ttest_ind(A, B)\n",
    "#passing the arrays to \"ttest_ind\" function"
   ]
  },
  {
   "cell_type": "markdown",
   "metadata": {},
   "source": [
    "Output \n",
    "T static high - change is significant ; negative - change is giving negative response \n",
    "Pvalue(probability) - small means the result is not random variation infact it is obtained from change \n",
    "Desirable(significant) - High T value(even absolute), low pvalue "
   ]
  },
  {
   "cell_type": "markdown",
   "metadata": {},
   "source": [
    "Creating A and B sets as random normally distributed, generated under the same parameters.(no \"real\" difference)."
   ]
  },
  {
   "cell_type": "code",
   "execution_count": 6,
   "metadata": {},
   "outputs": [
    {
     "data": {
      "text/plain": [
       "Ttest_indResult(statistic=-0.3090613146518876, pvalue=0.7572749496868096)"
      ]
     },
     "execution_count": 6,
     "metadata": {},
     "output_type": "execute_result"
    }
   ],
   "source": [
    "B = np.random.normal(25.0, 5.0, 10000)\n",
    "# This data shows no difference due to change\n",
    "stats.ttest_ind(A, B)"
   ]
  },
  {
   "cell_type": "raw",
   "metadata": {},
   "source": [
    "Output \n",
    "T statistic - low change is insignifact, negative- change is giving negative result \n",
    "p value - high , very high probability the change is random  \n",
    " \n",
    "There is no real difference in behavior between these two sets.\n"
   ]
  },
  {
   "cell_type": "code",
   "execution_count": 3,
   "metadata": {
    "scrolled": true
   },
   "outputs": [
    {
     "data": {
      "text/plain": [
       "Ttest_indResult(statistic=-0.4850502897839147, pvalue=0.6276412040758369)"
      ]
     },
     "execution_count": 3,
     "metadata": {},
     "output_type": "execute_result"
    }
   ],
   "source": [
    "A = np.random.normal(25.0, 5.0, 100000)\n",
    "B = np.random.normal(25.0, 5.0, 100000)\n",
    "# creating dataset with no difference but 10x samples\n",
    "stats.ttest_ind(A, B)"
   ]
  },
  {
   "cell_type": "raw",
   "metadata": {},
   "source": [
    "Output \n",
    "T statistic - low change is insignifact, negative- change is giving negative result \n",
    "p value - high , very high probability the change is random  \n",
    " \n",
    "There is no real difference in behavior between these two sets.\n",
    "Hence number of samples dont make a difference "
   ]
  },
  {
   "cell_type": "code",
   "execution_count": 4,
   "metadata": {},
   "outputs": [
    {
     "data": {
      "text/plain": [
       "Ttest_indResult(statistic=0.07442445108872899, pvalue=0.9406726610400185)"
      ]
     },
     "execution_count": 4,
     "metadata": {},
     "output_type": "execute_result"
    }
   ],
   "source": [
    "A = np.random.normal(25.0, 5.0, 1000000)\n",
    "B = np.random.normal(25.0, 5.0, 1000000)\n",
    "\n",
    "stats.ttest_ind(A, B)"
   ]
  },
  {
   "cell_type": "code",
   "execution_count": 5,
   "metadata": {},
   "outputs": [
    {
     "data": {
      "text/plain": [
       "Ttest_indResult(statistic=0.0, pvalue=1.0)"
      ]
     },
     "execution_count": 5,
     "metadata": {},
     "output_type": "execute_result"
    }
   ],
   "source": [
    "stats.ttest_ind(A, A)"
   ]
  },
  {
   "cell_type": "code",
   "execution_count": 11,
   "metadata": {},
   "outputs": [
    {
     "name": "stdout",
     "output_type": "stream",
     "text": [
      "Different Std:  Ttest_indResult(statistic=1.1585901221925445, pvalue=0.24662343546673987)\n",
      "Diff mean and Std:  Ttest_indResult(statistic=294.5108450506624, pvalue=0.0)\n"
     ]
    }
   ],
   "source": [
    "A = np.random.normal(25.0, 15.0, 1000000)\n",
    "B = np.random.normal(25.0, 5.0, 1000000)\n",
    "# Creating normal random data with same mean and different std \n",
    "print(\"Different Std: \",stats.ttest_ind(A, B))\n",
    "C = np.random.normal(35.0,4.0,100000)\n",
    "D = np.random.normal(25.0,10.0,100000)\n",
    "# Creating normal random data with different mean and different std \n",
    "print(\"Diff mean and Std: \",stats.ttest_ind(C,D))\n"
   ]
  },
  {
   "cell_type": "markdown",
   "metadata": {},
   "source": [
    "Output \n",
    "1. T statistic - low , positive ; Pvalue - high \n",
    "(Change in behaviour is minimal positive and random)\n",
    "2. T statistic - high , positive ; Pvalue - low\n",
    "(Change in behaviour is high positive and not random) - significant \n"
   ]
  },
  {
   "cell_type": "markdown",
   "metadata": {},
   "source": [
    "Conclusion \n",
    "Difference in standard deviation does not cause significant change. \n",
    "Difference in mean value causes significant change. "
   ]
  }
 ],
 "metadata": {
  "kernelspec": {
   "display_name": "Python 3 (ipykernel)",
   "language": "python",
   "name": "python3"
  },
  "language_info": {
   "codemirror_mode": {
    "name": "ipython",
    "version": 3
   },
   "file_extension": ".py",
   "mimetype": "text/x-python",
   "name": "python",
   "nbconvert_exporter": "python",
   "pygments_lexer": "ipython3",
   "version": "3.10.9"
  }
 },
 "nbformat": 4,
 "nbformat_minor": 1
}
